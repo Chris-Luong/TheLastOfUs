{
 "cells": [
  {
   "cell_type": "code",
   "execution_count": 7,
   "metadata": {},
   "outputs": [
    {
     "name": "stdout",
     "output_type": "stream",
     "text": [
      "Filter method to select top 300 features...\n"
     ]
    },
    {
     "name": "stderr",
     "output_type": "stream",
     "text": [
      "/tmp/ipykernel_1833/2539633209.py:29: FutureWarning: The default value of numeric_only in DataFrame.corr is deprecated. In a future version, it will default to False. Select only valid columns or specify the value of numeric_only to silence this warning.\n",
      "  corr.append(abs(train[[feature, target]].fillna(0).corr().values[0][1]))\n"
     ]
    },
    {
     "ename": "IndexError",
     "evalue": "index 1 is out of bounds for axis 0 with size 1",
     "output_type": "error",
     "traceback": [
      "\u001b[0;31m---------------------------------------------------------------------------\u001b[0m",
      "\u001b[0;31mIndexError\u001b[0m                                Traceback (most recent call last)",
      "Cell \u001b[0;32mIn[7], line 29\u001b[0m\n\u001b[1;32m     27\u001b[0m corr \u001b[39m=\u001b[39m []\n\u001b[1;32m     28\u001b[0m \u001b[39mfor\u001b[39;00m feature \u001b[39min\u001b[39;00m featureSelect:\n\u001b[0;32m---> 29\u001b[0m     corr\u001b[39m.\u001b[39mappend(\u001b[39mabs\u001b[39m(train[[feature, target]]\u001b[39m.\u001b[39;49mfillna(\u001b[39m0\u001b[39;49m)\u001b[39m.\u001b[39;49mcorr()\u001b[39m.\u001b[39;49mvalues[\u001b[39m0\u001b[39;49m][\u001b[39m1\u001b[39;49m]))\n\u001b[1;32m     31\u001b[0m \u001b[39m# get top 300 features with the highest correlation\u001b[39;00m\n\u001b[1;32m     32\u001b[0m se \u001b[39m=\u001b[39m pd\u001b[39m.\u001b[39mSeries(corr, index\u001b[39m=\u001b[39mfeatureSelect)\u001b[39m.\u001b[39msort_values(ascending\u001b[39m=\u001b[39m\u001b[39mFalse\u001b[39;00m)\n",
      "\u001b[0;31mIndexError\u001b[0m: index 1 is out of bounds for axis 0 with size 1"
     ]
    }
   ],
   "source": [
    "import pandas as pd\n",
    "from datasets import Datasets\n",
    "\n",
    "pth = \"../\"\n",
    "data = Datasets(pth + \"X_train.csv\", pth + \"X_test.csv\", pth + \"X_val.csv\",\n",
    "                pth + \"y_train.csv\", pth + \"y_test.csv\", pth + \"y_val.csv\")\n",
    "\n",
    "# def feature_select_pearson(train, test):\n",
    "print('Filter method to select top 200 features...')\n",
    "train = data.X_train\n",
    "test = data.X_test\n",
    "target = \"CRASH_SEVERITY\"\n",
    "train[target] = data.y_train[target]\n",
    "test[target] = data.y_test[target]\n",
    "features = train.columns.tolist()\n",
    "# features.remove(\"CRASH_ID\")\n",
    "features.remove(target)\n",
    "featureSelect = features[:]\n",
    "\n",
    "\n",
    "# remove features with a missing value ratio greater than 0.99\n",
    "for feature in features:\n",
    "    if train[feature].isnull().sum() / train.shape[0] >= 0.99:\n",
    "        featureSelect.remove(feature)\n",
    "\n",
    "# calculate the pearson correlation\n",
    "corr = []\n",
    "for feature in featureSelect:\n",
    "    corr.append(abs(train[[feature, target]].fillna(0).corr().values[0][1]))\n",
    "\n",
    "# get top 200 features with the highest correlation\n",
    "se = pd.Series(corr, index=featureSelect).sort_values(ascending=False)\n",
    "feature_select = se[:200].index.tolist()\n",
    "print('done')\n",
    "print(train[feature_select + [target]], test[feature_select + [target]])\n",
    "# return train[feature_select + [target]], test[feature_select + [target]]"
   ]
  }
 ],
 "metadata": {
  "kernelspec": {
   "display_name": "Python 3",
   "language": "python",
   "name": "python3"
  },
  "language_info": {
   "codemirror_mode": {
    "name": "ipython",
    "version": 3
   },
   "file_extension": ".py",
   "mimetype": "text/x-python",
   "name": "python",
   "nbconvert_exporter": "python",
   "pygments_lexer": "ipython3",
   "version": "3.8.10"
  },
  "orig_nbformat": 4
 },
 "nbformat": 4,
 "nbformat_minor": 2
}
