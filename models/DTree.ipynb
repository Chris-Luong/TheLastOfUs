{
 "cells": [
  {
   "cell_type": "code",
   "execution_count": 1,
   "metadata": {},
   "outputs": [
    {
     "name": "stdout",
     "output_type": "stream",
     "text": [
      "Accuracy: 0.8653001464128843\n"
     ]
    }
   ],
   "source": [
    "import pandas as pd\n",
    "from datasets import Datasets\n",
    "from sklearn.model_selection import train_test_split\n",
    "from sklearn.tree import DecisionTreeClassifier\n",
    "from sklearn.metrics import accuracy_score\n",
    "\n",
    "pth = \"../\"\n",
    "data = Datasets(pth + \"X_train.csv\", pth + \"X_test.csv\", pth + \"X_val.csv\",\n",
    "                pth + \"y_train.csv\", pth + \"y_test.csv\", pth + \"y_val.csv\")\n",
    "\n",
    "# Initialize a DecisionTreeClassifier object\n",
    "clf = DecisionTreeClassifier(random_state=42)\n",
    "\n",
    "# Fit the classifier to the training data\n",
    "clf.fit(data.X_train, data.y_train)\n",
    "\n",
    "# Use the trained classifier to make predictions on the test data\n",
    "y_pred = clf.predict(data.X_test)\n",
    "\n",
    "# Calculate the accuracy of the classifier on the test data\n",
    "accuracy = accuracy_score(data.y_test, y_pred)\n",
    "\n",
    "# Print the accuracy\n",
    "print(f\"Accuracy: {accuracy}\")"
   ]
  }
 ],
 "metadata": {
  "kernelspec": {
   "display_name": "Python 3",
   "language": "python",
   "name": "python3"
  },
  "language_info": {
   "codemirror_mode": {
    "name": "ipython",
    "version": 3
   },
   "file_extension": ".py",
   "mimetype": "text/x-python",
   "name": "python",
   "nbconvert_exporter": "python",
   "pygments_lexer": "ipython3",
   "version": "3.8.10"
  },
  "orig_nbformat": 4
 },
 "nbformat": 4,
 "nbformat_minor": 2
}
