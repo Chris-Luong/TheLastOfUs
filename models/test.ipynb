{
 "cells": [
  {
   "cell_type": "code",
   "execution_count": 1,
   "metadata": {},
   "outputs": [
    {
     "name": "stdout",
     "output_type": "stream",
     "text": [
      "<datasets.Datasets object at 0x7f0f085e4d30>\n"
     ]
    },
    {
     "ename": "AttributeError",
     "evalue": "'Datasets' object has no attribute 'y_train_binary'",
     "output_type": "error",
     "traceback": [
      "\u001b[0;31m---------------------------------------------------------------------------\u001b[0m",
      "\u001b[0;31mAttributeError\u001b[0m                            Traceback (most recent call last)",
      "Cell \u001b[0;32mIn[1], line 14\u001b[0m\n\u001b[1;32m     10\u001b[0m pth \u001b[39m=\u001b[39m \u001b[39m\"\u001b[39m\u001b[39m../\u001b[39m\u001b[39m\"\u001b[39m\n\u001b[1;32m     11\u001b[0m data \u001b[39m=\u001b[39m Datasets(pth \u001b[39m+\u001b[39m \u001b[39m\"\u001b[39m\u001b[39mX_train.csv\u001b[39m\u001b[39m\"\u001b[39m, pth \u001b[39m+\u001b[39m \u001b[39m\"\u001b[39m\u001b[39mX_test.csv\u001b[39m\u001b[39m\"\u001b[39m, pth \u001b[39m+\u001b[39m \u001b[39m\"\u001b[39m\u001b[39mX_val.csv\u001b[39m\u001b[39m\"\u001b[39m,\n\u001b[1;32m     12\u001b[0m                 pth \u001b[39m+\u001b[39m \u001b[39m\"\u001b[39m\u001b[39my_train_binary.csv\u001b[39m\u001b[39m\"\u001b[39m, pth \u001b[39m+\u001b[39m \u001b[39m\"\u001b[39m\u001b[39my_test_binary.csv\u001b[39m\u001b[39m\"\u001b[39m, pth \u001b[39m+\u001b[39m \u001b[39m\"\u001b[39m\u001b[39my_val_binary.csv\u001b[39m\u001b[39m\"\u001b[39m)\n\u001b[0;32m---> 14\u001b[0m DT_y_pred \u001b[39m=\u001b[39m decision_tree\u001b[39m.\u001b[39;49mDT(data)\n\u001b[1;32m     15\u001b[0m \u001b[39m# RF_y_pred = random_forest.RF(data)\u001b[39;00m\n\u001b[1;32m     16\u001b[0m \n\u001b[1;32m     17\u001b[0m \u001b[39m# # Decision Tree\u001b[39;00m\n\u001b[1;32m     18\u001b[0m eva \u001b[39m=\u001b[39m Evaluation()\n",
      "File \u001b[0;32m/mnt/d/chris/documents/uni/comsci/comp9417/project/models/decision_tree.py:14\u001b[0m, in \u001b[0;36mDT\u001b[0;34m(data)\u001b[0m\n\u001b[1;32m     12\u001b[0m \u001b[39m# Fit the classifier to the training data\u001b[39;00m\n\u001b[1;32m     13\u001b[0m \u001b[39mprint\u001b[39m(data)\n\u001b[0;32m---> 14\u001b[0m clf\u001b[39m.\u001b[39mfit(data\u001b[39m.\u001b[39mX_train, data\u001b[39m.\u001b[39;49my_train_binary)\n\u001b[1;32m     16\u001b[0m \u001b[39m# Use the trained classifier to make predictions on the test data\u001b[39;00m\n\u001b[1;32m     17\u001b[0m y_pred \u001b[39m=\u001b[39m clf\u001b[39m.\u001b[39mpredict(data\u001b[39m.\u001b[39mX_test)\n",
      "\u001b[0;31mAttributeError\u001b[0m: 'Datasets' object has no attribute 'y_train_binary'"
     ]
    }
   ],
   "source": [
    "\n",
    "from datasets import Datasets\n",
    "from logistic_regression import LogReg\n",
    "from model_evaluation import Evaluation\n",
    "import numpy as np\n",
    "import decision_tree, random_forest\n",
    "\n",
    "pth = \"../\"\n",
    "data = Datasets(pth + \"X_train.csv\", pth + \"X_test.csv\", pth + \"X_val.csv\",\n",
    "                pth + \"y_train_binary.csv\", pth + \"y_test_binary.csv\", pth + \"y_val_binary.csv\")\n",
    "\n",
    "DT_y_pred = decision_tree.DT(data)\n",
    "# RF_y_pred = random_forest.RF(data)\n",
    "\n",
    "# # Decision Tree\n",
    "eva = Evaluation()\n",
    "print(\"Accuracy:\", eva.accuracy(DT_y_pred, data.y_test))\n",
    "print(\"Recall:\", eva.recall(DT_y_pred, data.y_test))\n",
    "print(\"Precision:\", eva.precision(DT_y_pred, data.y_test))\n",
    "print(\"F1 Score:\", eva.f1_score(DT_y_pred, data.y_test))\n",
    "# print(\"Test Fatals:\", np.count_nonzero(data.y_test == \"Fatal\"))\n",
    "print(\"Test non-property damage:\", np.count_nonzero(data.y_test == \"Injury or Fatal\"))\n",
    "eva_conf = eva.confusion(DT_y_pred, data.y_test)\n",
    "eva.plot_confusion(eva_conf)\n",
    "\n",
    "# Random Forest\n",
    "# eva = Evaluation()\n",
    "# print(\"Accuracy:\", eva.accuracy(RF_y_pred, data.y_test))\n",
    "# print(\"Recall:\", eva.recall(RF_y_pred, data.y_test))\n",
    "# print(\"Precision:\", eva.precision(RF_y_pred, data.y_test))\n",
    "# print(\"F1 Score:\", eva.f1_score(RF_y_pred, data.y_test))\n",
    "# print(\"Test Fatals:\", np.count_nonzero(data.y_test == \"Fatal\"))\n",
    "# print(\"Test non-property damage:\", np.count_nonzero(data.y_test == \"Injury or Fatal\"))\n",
    "# eva_conf = eva.confusion(RF_y_pred, data.y_test)\n",
    "# eva.plot_confusion(eva_conf)\n"
   ]
  }
 ],
 "metadata": {
  "kernelspec": {
   "display_name": "Python 3",
   "language": "python",
   "name": "python3"
  },
  "language_info": {
   "codemirror_mode": {
    "name": "ipython",
    "version": 3
   },
   "file_extension": ".py",
   "mimetype": "text/x-python",
   "name": "python",
   "nbconvert_exporter": "python",
   "pygments_lexer": "ipython3",
   "version": "3.8.10"
  },
  "orig_nbformat": 4
 },
 "nbformat": 4,
 "nbformat_minor": 2
}
